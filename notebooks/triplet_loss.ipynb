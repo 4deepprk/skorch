{
 "cells": [
  {
   "cell_type": "markdown",
   "metadata": {},
   "source": [
    "# Triplet loss"
   ]
  },
  {
   "cell_type": "markdown",
   "metadata": {},
   "source": [
    "Example showcasing how to use skorch with triplet loss."
   ]
  },
  {
   "cell_type": "markdown",
   "metadata": {},
   "source": [
    "At first glance, it might not be quite obvious how to implement something like nets that use contrastive loss or triplet loss with skorch. Here is an example of using triplet loss that could be used as a starting point."
   ]
  },
  {
   "cell_type": "markdown",
   "metadata": {},
   "source": [
    "## Imports"
   ]
  },
  {
   "cell_type": "code",
   "execution_count": 1,
   "metadata": {},
   "outputs": [],
   "source": [
    "import matplotlib.pyplot as plt\n",
    "import numpy as np\n",
    "from sklearn.datasets import make_classification\n",
    "from sklearn.neighbors import KNeighborsClassifier\n",
    "from sklearn.dummy import DummyClassifier\n",
    "from sklearn.model_selection import cross_val_score\n",
    "from sklearn.model_selection import train_test_split\n",
    "from skorch import NeuralNet\n",
    "from skorch.utils import data_from_dataset\n",
    "from skorch.toy import MLPModule\n",
    "import torch\n",
    "from torch import nn\n",
    "from torch.utils.data import Sampler, BatchSampler"
   ]
  },
  {
   "cell_type": "code",
   "execution_count": 2,
   "metadata": {},
   "outputs": [
    {
     "name": "stdout",
     "output_type": "stream",
     "text": [
      "Populating the interactive namespace from numpy and matplotlib\n"
     ]
    }
   ],
   "source": [
    "%pylab inline"
   ]
  },
  {
   "cell_type": "code",
   "execution_count": 3,
   "metadata": {},
   "outputs": [],
   "source": [
    "plt.style.use('seaborn')"
   ]
  },
  {
   "cell_type": "code",
   "execution_count": 4,
   "metadata": {},
   "outputs": [],
   "source": [
    "np.random.seed(0)\n",
    "torch.manual_seed(0)\n",
    "torch.cuda.manual_seed(0)\n",
    "device = 'cuda' if torch.cuda.is_available() else 'cpu'"
   ]
  },
  {
   "cell_type": "markdown",
   "metadata": {},
   "source": [
    "## Prepare data"
   ]
  },
  {
   "cell_type": "markdown",
   "metadata": {},
   "source": [
    "Use an artificial dataset consisting of 3 classes."
   ]
  },
  {
   "cell_type": "code",
   "execution_count": 5,
   "metadata": {},
   "outputs": [],
   "source": [
    "X, y = make_classification(2000, n_features=50, n_informative=40, n_classes=3)"
   ]
  },
  {
   "cell_type": "code",
   "execution_count": 6,
   "metadata": {},
   "outputs": [],
   "source": [
    "X = X.astype(np.float32)"
   ]
  },
  {
   "cell_type": "code",
   "execution_count": 7,
   "metadata": {},
   "outputs": [],
   "source": [
    "X_train, X_valid, y_train, y_valid = train_test_split(X, y)"
   ]
  },
  {
   "cell_type": "markdown",
   "metadata": {},
   "source": [
    "## Custom code"
   ]
  },
  {
   "cell_type": "markdown",
   "metadata": {},
   "source": [
    "### Sampling of positives and negatives to create triplets"
   ]
  },
  {
   "cell_type": "code",
   "execution_count": 8,
   "metadata": {},
   "outputs": [],
   "source": [
    "def find_positive(classes, i, sample_weight=None):\n",
    "    \"\"\"Given some classes, find a positive sample of the anchor at index `i`\n",
    "\n",
    "    If you don't want each index to be equally likely (e.g. because some samples\n",
    "    are too easy), modify the sampling probability through the\n",
    "    `sample_weight` argument.\n",
    "\n",
    "    \"\"\"\n",
    "    if sample_weight is None:\n",
    "        sample_weight = np.ones_like(classes)\n",
    "\n",
    "    is_same = classes == classes[i]\n",
    "    sample_weight = sample_weight * is_same\n",
    "    sample_weight[i] = 0  # don't return same index\n",
    "\n",
    "    p = sample_weight / sample_weight.sum()\n",
    "    j = np.random.choice(np.arange(len(classes)), p=p)\n",
    "    return j"
   ]
  },
  {
   "cell_type": "code",
   "execution_count": 9,
   "metadata": {},
   "outputs": [],
   "source": [
    "def find_negative(classes, i, sample_weight=None):\n",
    "    \"\"\"Given some classes, find a negative sample of the anchor at index `i`\n",
    "\n",
    "    If you don't want each index to be equally likely (e.g. because some samples\n",
    "    are too easy), modify the sampling probability through the\n",
    "    `sample_weight` argument.\n",
    "\n",
    "    \"\"\"\n",
    "    if sample_weight is None:\n",
    "        sample_weight = np.ones_like(classes)\n",
    "\n",
    "    is_negative = classes != classes[i]\n",
    "    sample_weight = sample_weight * is_negative\n",
    "    p = sample_weight / sample_weight.sum()\n",
    "    j = np.random.choice(np.arange(len(classes)), p=p)\n",
    "    if classes[i] == classes[j]:\n",
    "        1/0\n",
    "    return j"
   ]
  },
  {
   "cell_type": "code",
   "execution_count": 10,
   "metadata": {},
   "outputs": [],
   "source": [
    "def test_find_positive():\n",
    "    y = np.random.randint(0, 10, size=200)\n",
    "\n",
    "    for i in range(200):\n",
    "        positive = find_positive(y, i)\n",
    "        assert y[positive] == y[i]\n",
    "        assert positive != i"
   ]
  },
  {
   "cell_type": "code",
   "execution_count": 11,
   "metadata": {},
   "outputs": [],
   "source": [
    "def test_find_positive_sample_weight():\n",
    "    y = np.random.randint(0, 10, size=200)\n",
    "    sample_weight = np.zeros_like(y)\n",
    "    sample_weight[::2] = 1.0  # only sample among even indices\n",
    "\n",
    "    for i in range(200):\n",
    "        positive = find_positive(y, i, sample_weight=sample_weight)\n",
    "        assert y[positive] == y[i]\n",
    "        assert positive != i\n",
    "        assert positive % 2 == 0"
   ]
  },
  {
   "cell_type": "code",
   "execution_count": 12,
   "metadata": {},
   "outputs": [],
   "source": [
    "def test_find_negative():\n",
    "    y = np.random.randint(0, 10, size=200)\n",
    "\n",
    "    for i in range(200):\n",
    "        negative = find_negative(y, i)\n",
    "        assert y[negative] != y[i]"
   ]
  },
  {
   "cell_type": "code",
   "execution_count": 13,
   "metadata": {},
   "outputs": [],
   "source": [
    "def test_find_negative_sample_weight():\n",
    "    y = np.random.randint(0, 10, size=200)\n",
    "    sample_weight = np.zeros_like(y)\n",
    "    sample_weight[1::2] = 1.0  # only sample among odd indices\n",
    "\n",
    "    for i in range(200):\n",
    "        negative = find_negative(y, i, sample_weight=sample_weight)\n",
    "        assert y[negative] != y[i]\n",
    "        assert negative % 2 == 1"
   ]
  },
  {
   "cell_type": "code",
   "execution_count": 14,
   "metadata": {
    "scrolled": true
   },
   "outputs": [],
   "source": [
    "test_find_positive()"
   ]
  },
  {
   "cell_type": "code",
   "execution_count": 15,
   "metadata": {},
   "outputs": [],
   "source": [
    "test_find_positive_sample_weight()"
   ]
  },
  {
   "cell_type": "code",
   "execution_count": 16,
   "metadata": {},
   "outputs": [],
   "source": [
    "test_find_negative()"
   ]
  },
  {
   "cell_type": "code",
   "execution_count": 17,
   "metadata": {},
   "outputs": [],
   "source": [
    "test_find_negative_sample_weight()"
   ]
  },
  {
   "cell_type": "markdown",
   "metadata": {},
   "source": [
    "### Custom skorch code"
   ]
  },
  {
   "cell_type": "code",
   "execution_count": 18,
   "metadata": {},
   "outputs": [],
   "source": [
    "class TripletSampler(torch.utils.data.Sampler):\n",
    "    \"\"\"Sampler that returns triplets during training.\n",
    "\n",
    "    At inference time, only returns the normal samples.\n",
    "\n",
    "    \"\"\"\n",
    "    def __init__(self, data_source, shuffle=False):\n",
    "        self.data_source = data_source\n",
    "        self.shuffle = shuffle\n",
    "\n",
    "        self._indices = np.arange(len(self.data_source))\n",
    "        if self.shuffle:\n",
    "            np.random.shuffle(self._indices)\n",
    "\n",
    "    def __iter__(self):\n",
    "        _, y = data_from_dataset(self.data_source)\n",
    "        is_inference = y is None\n",
    "\n",
    "        for i in self._indices:\n",
    "            yield i\n",
    "            if is_inference:\n",
    "                continue\n",
    "\n",
    "            i_pos = find_positive(y, i)\n",
    "            i_neg = find_negative(y, i)\n",
    "            yield i_pos\n",
    "            yield i_neg\n",
    "\n",
    "    def __len__(self):\n",
    "        return len(self.data_source)"
   ]
  },
  {
   "cell_type": "code",
   "execution_count": 19,
   "metadata": {},
   "outputs": [],
   "source": [
    "def triplet_dataloader(ds, **kwargs):\n",
    "    \"\"\"Returns a DataLoader that uses TripletSampler.\"\"\"\n",
    "    shuffle = False\n",
    "    if 'shuffle' in kwargs:\n",
    "        shuffle = kwargs.pop('shuffle')\n",
    "\n",
    "    sampler = TripletSampler(ds, shuffle=shuffle)\n",
    "    dl = torch.utils.data.DataLoader(ds, sampler=sampler, **kwargs)\n",
    "    yield from dl"
   ]
  },
  {
   "cell_type": "code",
   "execution_count": 20,
   "metadata": {},
   "outputs": [],
   "source": [
    "class TripletNet(NeuralNet):\n",
    "    \"\"\"Modified NeuralNet that works with TripletMarginLoss\"\"\"\n",
    "    def get_loss(self, y_pred, y_true, X=None, training=False):\n",
    "        if len(y_pred) % 3 != 0:\n",
    "            raise ValueError(\"Batch size must be a multiple of 3, get {} instead.\".format(len(y_pred)))\n",
    "\n",
    "        y_anchor = y_pred[::3]\n",
    "        y_pos = y_pred[1::3]\n",
    "        y_neg = y_pred[2::3]\n",
    "        return self.criterion_(y_anchor, y_pos, y_neg)"
   ]
  },
  {
   "cell_type": "markdown",
   "metadata": {},
   "source": [
    "## Training"
   ]
  },
  {
   "cell_type": "markdown",
   "metadata": {},
   "source": [
    "Use a simple MLP and `TripletMarginLoss` to embed the 50-dimensional input space into a 2-dimensional output space. The loss takes care of separating the 3 classes."
   ]
  },
  {
   "cell_type": "code",
   "execution_count": 21,
   "metadata": {},
   "outputs": [],
   "source": [
    "net = TripletNet(\n",
    "    MLPModule,\n",
    "    module__input_units=X.shape[1], \n",
    "    module__output_units=2,\n",
    "    module__num_hidden=2,\n",
    "    module__hidden_units=50,\n",
    "\n",
    "    optimizer=torch.optim.Adam,\n",
    "    lr=2e-3,\n",
    "    criterion=nn.TripletMarginLoss,\n",
    "    criterion__margin=0.5,\n",
    "    max_epochs=20,\n",
    "    \n",
    "    iterator_train=triplet_dataloader,\n",
    "    iterator_train__shuffle=True,\n",
    "    iterator_valid=triplet_dataloader,\n",
    "    batch_size=3*32,  # must be a multiple of 3\n",
    "\n",
    "    device=device,\n",
    ")"
   ]
  },
  {
   "cell_type": "code",
   "execution_count": 22,
   "metadata": {
    "scrolled": false
   },
   "outputs": [
    {
     "name": "stdout",
     "output_type": "stream",
     "text": [
      "  epoch    train_loss    valid_loss     dur\n",
      "-------  ------------  ------------  ------\n",
      "      1        \u001b[36m0.4998\u001b[0m        \u001b[32m0.4962\u001b[0m  0.3032\n",
      "      2        \u001b[36m0.4128\u001b[0m        \u001b[32m0.4197\u001b[0m  0.5175\n",
      "      3        \u001b[36m0.3357\u001b[0m        \u001b[32m0.3630\u001b[0m  0.5319\n",
      "      4        \u001b[36m0.2998\u001b[0m        \u001b[32m0.3558\u001b[0m  0.5316\n",
      "      5        \u001b[36m0.2471\u001b[0m        \u001b[32m0.3243\u001b[0m  0.5252\n",
      "      6        \u001b[36m0.1941\u001b[0m        \u001b[32m0.2787\u001b[0m  0.5334\n",
      "      7        \u001b[36m0.1513\u001b[0m        \u001b[32m0.2762\u001b[0m  0.5500\n",
      "      8        \u001b[36m0.1228\u001b[0m        \u001b[32m0.2239\u001b[0m  0.5575\n",
      "      9        \u001b[36m0.1098\u001b[0m        0.2381  0.5749\n",
      "     10        \u001b[36m0.0897\u001b[0m        \u001b[32m0.1953\u001b[0m  0.5555\n",
      "     11        \u001b[36m0.0633\u001b[0m        0.2702  0.5672\n",
      "     12        \u001b[36m0.0620\u001b[0m        0.2490  0.5609\n",
      "     13        \u001b[36m0.0471\u001b[0m        \u001b[32m0.1930\u001b[0m  0.5801\n",
      "     14        0.0553        0.2191  0.5705\n",
      "     15        \u001b[36m0.0376\u001b[0m        0.2097  0.5824\n",
      "     16        \u001b[36m0.0294\u001b[0m        0.2416  0.5833\n",
      "     17        0.0386        0.1977  0.5917\n",
      "     18        \u001b[36m0.0270\u001b[0m        0.2415  0.5924\n",
      "     19        \u001b[36m0.0207\u001b[0m        0.2054  0.5811\n",
      "     20        0.0301        \u001b[32m0.1836\u001b[0m  0.5887\n"
     ]
    },
    {
     "data": {
      "text/plain": [
       "<class '__main__.TripletNet'>[initialized](\n",
       "  module_=MLPModule(\n",
       "    (nonlin): ReLU()\n",
       "    (sequential): Sequential(\n",
       "      (0): Linear(in_features=50, out_features=50, bias=True)\n",
       "      (1): ReLU()\n",
       "      (2): Dropout(p=0)\n",
       "      (3): Linear(in_features=50, out_features=50, bias=True)\n",
       "      (4): ReLU()\n",
       "      (5): Dropout(p=0)\n",
       "      (6): Linear(in_features=50, out_features=2, bias=True)\n",
       "    )\n",
       "  ),\n",
       ")"
      ]
     },
     "execution_count": 22,
     "metadata": {},
     "output_type": "execute_result"
    }
   ],
   "source": [
    "net.fit(X_train, y_train)"
   ]
  },
  {
   "cell_type": "markdown",
   "metadata": {},
   "source": [
    "## Visualization"
   ]
  },
  {
   "cell_type": "markdown",
   "metadata": {},
   "source": [
    "Use the hold-out validation data to show that the net learned to separate the 3 classes."
   ]
  },
  {
   "cell_type": "code",
   "execution_count": 23,
   "metadata": {},
   "outputs": [],
   "source": [
    "X_emb = net.predict(X_valid)"
   ]
  },
  {
   "cell_type": "code",
   "execution_count": 24,
   "metadata": {},
   "outputs": [
    {
     "data": {
      "text/plain": [
       "<matplotlib.legend.Legend at 0x7fc750480dd8>"
      ]
     },
     "execution_count": 24,
     "metadata": {},
     "output_type": "execute_result"
    },
    {
     "data": {
      "image/png": "[encoded data removed]",
      "text/plain": [
       "<Figure size 576x396 with 1 Axes>"
      ]
     },
     "metadata": {},
     "output_type": "display_data"
    }
   ],
   "source": [
    "for yi in set(y_valid):\n",
    "    mask = y_valid == yi\n",
    "    plt.scatter(X_emb[mask, 0], X_emb[mask, 1], label=\"class {}\".format(yi))\n",
    "plt.legend()"
   ]
  },
  {
   "cell_type": "markdown",
   "metadata": {},
   "source": [
    "## Predicting on the embeddings"
   ]
  },
  {
   "cell_type": "markdown",
   "metadata": {},
   "source": [
    "We train a simple KNN classifier, once on the original input features, `X_valid`, and once on the embedded features, `X_emb`. The classifier is actually more accurate on the embedded features, meaning that the embeddings are indeed useful."
   ]
  },
  {
   "cell_type": "code",
   "execution_count": 25,
   "metadata": {},
   "outputs": [
    {
     "data": {
      "text/plain": [
       "0.6899049316696375"
      ]
     },
     "execution_count": 25,
     "metadata": {},
     "output_type": "execute_result"
    }
   ],
   "source": [
    "scores = cross_val_score(KNeighborsClassifier(), X_valid, y_valid, scoring='accuracy', cv=5)\n",
    "scores.mean()"
   ]
  },
  {
   "cell_type": "code",
   "execution_count": 26,
   "metadata": {},
   "outputs": [
    {
     "data": {
      "text/plain": [
       "0.8659465240641712"
      ]
     },
     "execution_count": 26,
     "metadata": {},
     "output_type": "execute_result"
    }
   ],
   "source": [
    "scores = cross_val_score(KNeighborsClassifier(), X_emb, y_valid, scoring='accuracy', cv=5)\n",
    "scores.mean()"
   ]
  },
  {
   "cell_type": "markdown",
   "metadata": {},
   "source": [
    "Just for completeness, we show that a dummy classifier performs much worse on the same data, proving that the results are not due to luck."
   ]
  },
  {
   "cell_type": "code",
   "execution_count": 27,
   "metadata": {},
   "outputs": [
    {
     "data": {
      "text/plain": [
       "0.3403184789067142"
      ]
     },
     "execution_count": 27,
     "metadata": {},
     "output_type": "execute_result"
    }
   ],
   "source": [
    "scores = cross_val_score(DummyClassifier(), X_emb, y_valid, scoring='accuracy', cv=5)\n",
    "scores.mean()"
   ]
  },
  {
   "cell_type": "code",
   "execution_count": null,
   "metadata": {},
   "outputs": [],
   "source": []
  }
 ],
 "metadata": {
  "kernelspec": {
   "display_name": "Python 3",
   "language": "python",
   "name": "python3"
  },
  "language_info": {
   "codemirror_mode": {
    "name": "ipython",
    "version": 3
   },
   "file_extension": ".py",
   "mimetype": "text/x-python",
   "name": "python",
   "nbconvert_exporter": "python",
   "pygments_lexer": "ipython3",
   "version": "3.6.2"
  }
 },
 "nbformat": 4,
 "nbformat_minor": 2
}
