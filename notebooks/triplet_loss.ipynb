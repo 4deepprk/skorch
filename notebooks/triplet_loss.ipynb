{
 "cells": [
  {
   "cell_type": "markdown",
   "metadata": {},
   "source": [
    "# Triplet loss"
   ]
  },
  {
   "cell_type": "markdown",
   "metadata": {},
   "source": [
    "Example showcasing how to use skorch with triplet loss."
   ]
  },
  {
   "cell_type": "markdown",
   "metadata": {},
   "source": [
    "At first glance, it might not be quite obvious how to implement something like nets that use contrastive loss or triplet loss with skorch. Here is an example of using triplet loss that could be used as a starting point."
   ]
  },
  {
   "cell_type": "markdown",
   "metadata": {},
   "source": [
    "## Imports"
   ]
  },
  {
   "cell_type": "code",
   "execution_count": 1,
   "metadata": {},
   "outputs": [],
   "source": [
    "import numpy as np\n",
    "from skorch import NeuralNet\n",
    "import torch\n",
    "from torch import nn\n",
    "from skorch.toy import MLPModule\n",
    "from skorch.dataset import Dataset\n",
    "from torch.utils.data import Sampler, BatchSampler"
   ]
  },
  {
   "cell_type": "code",
   "execution_count": 2,
   "metadata": {},
   "outputs": [],
   "source": [
    "import matplotlib.pyplot as plt\n",
    "from sklearn.datasets import make_classification\n",
    "from sklearn.neighbors import KNeighborsClassifier\n",
    "from sklearn.dummy import DummyClassifier\n",
    "from sklearn.model_selection import cross_val_score\n",
    "from sklearn.model_selection import train_test_split"
   ]
  },
  {
   "cell_type": "code",
   "execution_count": 3,
   "metadata": {},
   "outputs": [
    {
     "name": "stdout",
     "output_type": "stream",
     "text": [
      "Populating the interactive namespace from numpy and matplotlib\n"
     ]
    }
   ],
   "source": [
    "%pylab inline"
   ]
  },
  {
   "cell_type": "code",
   "execution_count": 4,
   "metadata": {},
   "outputs": [],
   "source": [
    "plt.style.use('seaborn')"
   ]
  },
  {
   "cell_type": "code",
   "execution_count": 5,
   "metadata": {},
   "outputs": [],
   "source": [
    "np.random.seed(0)\n",
    "torch.manual_seed(0)\n",
    "torch.cuda.manual_seed(0)\n",
    "device = 'cuda' if torch.cuda.is_available() else 'cpu'"
   ]
  },
  {
   "cell_type": "markdown",
   "metadata": {},
   "source": [
    "## Prepare data"
   ]
  },
  {
   "cell_type": "markdown",
   "metadata": {},
   "source": [
    "Use an artificial dataset consisting of 3 classes."
   ]
  },
  {
   "cell_type": "code",
   "execution_count": 6,
   "metadata": {},
   "outputs": [],
   "source": [
    "X, y = make_classification(2000, n_features=50, n_informative=40, n_classes=3)"
   ]
  },
  {
   "cell_type": "code",
   "execution_count": 7,
   "metadata": {},
   "outputs": [],
   "source": [
    "X = X.astype(np.float32)"
   ]
  },
  {
   "cell_type": "code",
   "execution_count": 8,
   "metadata": {},
   "outputs": [],
   "source": [
    "X_train, X_valid, y_train, y_valid = train_test_split(X, y)"
   ]
  },
  {
   "cell_type": "markdown",
   "metadata": {},
   "source": [
    "## Custom code"
   ]
  },
  {
   "cell_type": "markdown",
   "metadata": {},
   "source": [
    "### Sampling of positives and negatives to create triplets"
   ]
  },
  {
   "cell_type": "code",
   "execution_count": 9,
   "metadata": {},
   "outputs": [],
   "source": [
    "def find_positive(classes, i, sample_weight=None):\n",
    "    \"\"\"Given some classes, find a positive sample of the anchor at index `i`\n",
    "\n",
    "    If you don't want each index to be equally likely (e.g. because some samples\n",
    "    are too easy), you can modify the sampling probability through the\n",
    "    `sample_weight` argument.\n",
    "\n",
    "    \"\"\"\n",
    "    if sample_weight is None:\n",
    "        sample_weight = np.ones_like(classes)\n",
    "\n",
    "    is_same = classes == classes[i]\n",
    "    sample_weight = sample_weight * is_same\n",
    "    sample_weight[i] = 0  # don't return same index\n",
    "\n",
    "    p = sample_weight / sample_weight.sum()\n",
    "    j = np.random.choice(np.arange(len(classes)), p=p)\n",
    "    return j"
   ]
  },
  {
   "cell_type": "code",
   "execution_count": 10,
   "metadata": {},
   "outputs": [],
   "source": [
    "def find_negative(classes, i, sample_weight=None):\n",
    "    \"\"\"Given some classes, find a negative sample of the anchor at index `i`\n",
    "\n",
    "    If you don't want each index to be equally likely (e.g. because some samples\n",
    "    are too easy), you can modify the sampling probability through the\n",
    "    `sample_weight` argument.\n",
    "\n",
    "    \"\"\"\n",
    "    if sample_weight is None:\n",
    "        sample_weight = np.ones_like(classes)\n",
    "\n",
    "    is_negative = classes != classes[i]\n",
    "    sample_weight = sample_weight * is_negative\n",
    "    p = sample_weight / sample_weight.sum()\n",
    "    j = np.random.choice(np.arange(len(classes)), p=p)\n",
    "    if classes[i] == classes[j]:\n",
    "        1/0\n",
    "    return j"
   ]
  },
  {
   "cell_type": "code",
   "execution_count": 11,
   "metadata": {},
   "outputs": [],
   "source": [
    "def test_find_positive():\n",
    "    y = np.random.randint(0, 10, size=200)\n",
    "\n",
    "    for i in range(200):\n",
    "        positive = find_positive(y, i)\n",
    "        assert y[positive] == y[i]\n",
    "        assert positive != i"
   ]
  },
  {
   "cell_type": "code",
   "execution_count": 12,
   "metadata": {},
   "outputs": [],
   "source": [
    "def test_find_positive_sample_weight():\n",
    "    y = np.random.randint(0, 10, size=200)\n",
    "    sample_weight = np.zeros_like(y)\n",
    "    sample_weight[::2] = 1.0  # only sample among even indices\n",
    "\n",
    "    for i in range(200):\n",
    "        positive = find_positive(y, i, sample_weight=sample_weight)\n",
    "        assert y[positive] == y[i]\n",
    "        assert positive != i\n",
    "        assert positive % 2 == 0"
   ]
  },
  {
   "cell_type": "code",
   "execution_count": 13,
   "metadata": {},
   "outputs": [],
   "source": [
    "def test_find_negative():\n",
    "    y = np.random.randint(0, 10, size=200)\n",
    "\n",
    "    for i in range(200):\n",
    "        negative = find_negative(y, i)\n",
    "        assert y[negative] != y[i]"
   ]
  },
  {
   "cell_type": "code",
   "execution_count": 14,
   "metadata": {},
   "outputs": [],
   "source": [
    "def test_find_negative_sample_weight():\n",
    "    y = np.random.randint(0, 10, size=200)\n",
    "    sample_weight = np.zeros_like(y)\n",
    "    sample_weight[1::2] = 1.0  # only sample among odd indices\n",
    "\n",
    "    for i in range(200):\n",
    "        negative = find_negative(y, i, sample_weight=sample_weight)\n",
    "        assert y[negative] != y[i]\n",
    "        assert negative % 2 == 1"
   ]
  },
  {
   "cell_type": "code",
   "execution_count": 15,
   "metadata": {
    "scrolled": true
   },
   "outputs": [],
   "source": [
    "test_find_positive()"
   ]
  },
  {
   "cell_type": "code",
   "execution_count": 16,
   "metadata": {},
   "outputs": [],
   "source": [
    "test_find_positive_sample_weight()"
   ]
  },
  {
   "cell_type": "code",
   "execution_count": 17,
   "metadata": {},
   "outputs": [],
   "source": [
    "test_find_negative()"
   ]
  },
  {
   "cell_type": "code",
   "execution_count": 18,
   "metadata": {},
   "outputs": [],
   "source": [
    "test_find_negative_sample_weight()"
   ]
  },
  {
   "cell_type": "markdown",
   "metadata": {},
   "source": [
    "### Custom skorch code"
   ]
  },
  {
   "cell_type": "code",
   "execution_count": 19,
   "metadata": {},
   "outputs": [],
   "source": [
    "class TripletModule(MLPModule):\n",
    "    \"\"\"Simple MLP that works with triplets\n",
    "    \n",
    "    If, during the forward step, a triplet is passed, predict for all\n",
    "    \n",
    "    Other parameters as in skorch.toy.MLPModule\n",
    "    \n",
    "    \"\"\"\n",
    "    def forward(self, X):\n",
    "        if not (isinstance(X, (tuple, list)) and len(X) == 3):\n",
    "            return super().forward(X)\n",
    "        Xi, X_positive, X_negative = X\n",
    "        return super().forward(Xi), super().forward(X_positive), super().forward(X_negative)"
   ]
  },
  {
   "cell_type": "code",
   "execution_count": 20,
   "metadata": {},
   "outputs": [],
   "source": [
    "class TripletDataset(Dataset):\n",
    "    \"\"\"Dataset that returns triplets if y is given\n",
    "    \n",
    "    If y is not given, just return the normal output.\n",
    "    \n",
    "    \"\"\"\n",
    "    def __getitem__(self, i):\n",
    "        if self.y is None:\n",
    "            return super().__getitem__(i)\n",
    "\n",
    "        i_pos = find_positive(self.y, i)\n",
    "        i_neg = find_negative(self.y, i)\n",
    "        Xi, yi = self.X[i], self.y[i]\n",
    "        X_pos, y_pos = self.X[i_pos], self.y[i_pos]\n",
    "        X_neg, y_neg = self.X[i_neg], self.y[i_neg]\n",
    "        (Xi, yi), (X_pos, y_pos), (X_neg, y_neg) = (\n",
    "            super().transform(Xi, None),\n",
    "            super().transform(X_pos, None),\n",
    "            super().transform(X_neg, None),\n",
    "        )\n",
    "        return (Xi, X_pos, X_neg), (yi, y_pos, y_neg)"
   ]
  },
  {
   "cell_type": "code",
   "execution_count": 21,
   "metadata": {},
   "outputs": [],
   "source": [
    "class TripletNet(NeuralNet):\n",
    "    \"\"\"Modified NeuralNet that works with TripletMarginLoss\"\"\"\n",
    "    def get_loss(self, y_pred, y_true, X=None, training=False):\n",
    "        return self.criterion_(*y_pred)"
   ]
  },
  {
   "cell_type": "markdown",
   "metadata": {},
   "source": [
    "## Training"
   ]
  },
  {
   "cell_type": "markdown",
   "metadata": {},
   "source": [
    "Use a simple MLP and `TripletMarginLoss` to embed the 50-dimensional input space into a 2-dimensional output space. The loss takes care of separating the 3 classes."
   ]
  },
  {
   "cell_type": "code",
   "execution_count": 22,
   "metadata": {},
   "outputs": [],
   "source": [
    "net = TripletNet(\n",
    "    TripletModule,\n",
    "    module__input_units=X.shape[1], \n",
    "    module__output_units=2,\n",
    "    module__num_hidden=2,\n",
    "    module__hidden_units=50,\n",
    "\n",
    "    optimizer=torch.optim.Adam,\n",
    "    lr=1e-2,\n",
    "    criterion=nn.TripletMarginLoss,\n",
    "    criterion__margin=0.5,\n",
    "    max_epochs=30,\n",
    "\n",
    "    dataset=TripletDataset,\n",
    "    device=device,\n",
    ")"
   ]
  },
  {
   "cell_type": "code",
   "execution_count": 23,
   "metadata": {
    "scrolled": false
   },
   "outputs": [
    {
     "name": "stdout",
     "output_type": "stream",
     "text": [
      "  epoch    train_loss    valid_loss     dur\n",
      "-------  ------------  ------------  ------\n",
      "      1        \u001b[36m0.5411\u001b[0m        \u001b[32m0.4816\u001b[0m  0.3893\n",
      "      2        \u001b[36m0.4664\u001b[0m        \u001b[32m0.4452\u001b[0m  0.5387\n",
      "      3        \u001b[36m0.3877\u001b[0m        \u001b[32m0.3125\u001b[0m  0.5621\n",
      "      4        \u001b[36m0.2901\u001b[0m        \u001b[32m0.2601\u001b[0m  0.3658\n",
      "      5        \u001b[36m0.2705\u001b[0m        \u001b[32m0.2360\u001b[0m  0.5577\n",
      "      6        \u001b[36m0.1942\u001b[0m        \u001b[32m0.2199\u001b[0m  0.3768\n",
      "      7        \u001b[36m0.1712\u001b[0m        \u001b[32m0.1835\u001b[0m  0.3626\n",
      "      8        \u001b[36m0.1302\u001b[0m        \u001b[32m0.1688\u001b[0m  0.5474\n",
      "      9        \u001b[36m0.1057\u001b[0m        0.1738  0.3573\n",
      "     10        \u001b[36m0.0954\u001b[0m        \u001b[32m0.1655\u001b[0m  0.3528\n",
      "     11        \u001b[36m0.0862\u001b[0m        \u001b[32m0.1498\u001b[0m  0.3581\n",
      "     12        \u001b[36m0.0754\u001b[0m        0.1886  0.3569\n",
      "     13        0.0769        \u001b[32m0.1145\u001b[0m  0.3538\n",
      "     14        \u001b[36m0.0691\u001b[0m        0.1194  0.3590\n",
      "     15        \u001b[36m0.0577\u001b[0m        0.1425  0.3612\n",
      "     16        \u001b[36m0.0409\u001b[0m        0.1282  0.3627\n",
      "     17        0.0464        0.1240  0.5761\n",
      "     18        0.0555        0.1374  0.3722\n",
      "     19        0.0698        0.1397  0.5848\n",
      "     20        0.0636        0.1465  0.3667\n",
      "     21        0.0496        \u001b[32m0.1019\u001b[0m  0.3742\n",
      "     22        \u001b[36m0.0365\u001b[0m        0.1158  0.3707\n",
      "     23        \u001b[36m0.0328\u001b[0m        \u001b[32m0.0994\u001b[0m  0.3696\n",
      "     24        \u001b[36m0.0303\u001b[0m        \u001b[32m0.0977\u001b[0m  0.3692\n",
      "     25        0.0347        \u001b[32m0.0900\u001b[0m  0.3726\n",
      "     26        0.0384        \u001b[32m0.0710\u001b[0m  0.3778\n",
      "     27        \u001b[36m0.0205\u001b[0m        \u001b[32m0.0701\u001b[0m  0.4084\n",
      "     28        0.0366        0.1147  0.3762\n",
      "     29        0.0330        0.0918  0.3749\n",
      "     30        0.0311        0.0894  0.3848\n"
     ]
    },
    {
     "data": {
      "text/plain": [
       "<class '__main__.TripletNet'>[initialized](\n",
       "  module_=TripletModule(\n",
       "    (nonlin): ReLU()\n",
       "    (sequential): Sequential(\n",
       "      (0): Linear(in_features=50, out_features=50, bias=True)\n",
       "      (1): ReLU()\n",
       "      (2): Dropout(p=0)\n",
       "      (3): Linear(in_features=50, out_features=50, bias=True)\n",
       "      (4): ReLU()\n",
       "      (5): Dropout(p=0)\n",
       "      (6): Linear(in_features=50, out_features=2, bias=True)\n",
       "    )\n",
       "  ),\n",
       ")"
      ]
     },
     "execution_count": 23,
     "metadata": {},
     "output_type": "execute_result"
    }
   ],
   "source": [
    "net.fit(X_train, y_train)"
   ]
  },
  {
   "cell_type": "markdown",
   "metadata": {},
   "source": [
    "## Visualization"
   ]
  },
  {
   "cell_type": "markdown",
   "metadata": {},
   "source": [
    "Use the hold-out validation data to show that the net learned to separate the 3 classes."
   ]
  },
  {
   "cell_type": "code",
   "execution_count": 24,
   "metadata": {},
   "outputs": [],
   "source": [
    "X_emb = net.predict(X_valid)"
   ]
  },
  {
   "cell_type": "code",
   "execution_count": 25,
   "metadata": {},
   "outputs": [
    {
     "data": {
      "text/plain": [
       "<matplotlib.legend.Legend at 0x7f61c4b29780>"
      ]
     },
     "execution_count": 25,
     "metadata": {},
     "output_type": "execute_result"
    },
    {
     "data": {
      "image/png": "[encoded data removed]",
      "text/plain": [
       "<Figure size 576x396 with 1 Axes>"
      ]
     },
     "metadata": {},
     "output_type": "display_data"
    }
   ],
   "source": [
    "for yi in set(y_valid):\n",
    "    mask = y_valid == yi\n",
    "    plt.scatter(X_emb[mask, 0], X_emb[mask, 1], label=yi)\n",
    "plt.legend()"
   ]
  },
  {
   "cell_type": "markdown",
   "metadata": {},
   "source": [
    "## Predicting on the embeddings"
   ]
  },
  {
   "cell_type": "markdown",
   "metadata": {},
   "source": [
    "We train a simple KNN classifier, once on the original input features, `X_valid`, and once on the embedded features, `X_emb`. The classifier is actually more accurate on the embedded features, meaning that the embeddings are indeed useful."
   ]
  },
  {
   "cell_type": "code",
   "execution_count": 26,
   "metadata": {},
   "outputs": [
    {
     "data": {
      "text/plain": [
       "0.6899049316696375"
      ]
     },
     "execution_count": 26,
     "metadata": {},
     "output_type": "execute_result"
    }
   ],
   "source": [
    "scores = cross_val_score(KNeighborsClassifier(), X_valid, y_valid, scoring='accuracy', cv=5)\n",
    "scores.mean()"
   ]
  },
  {
   "cell_type": "code",
   "execution_count": 27,
   "metadata": {},
   "outputs": [
    {
     "data": {
      "text/plain": [
       "0.8736874628639335"
      ]
     },
     "execution_count": 27,
     "metadata": {},
     "output_type": "execute_result"
    }
   ],
   "source": [
    "scores = cross_val_score(KNeighborsClassifier(), X_emb, y_valid, scoring='accuracy', cv=5)\n",
    "scores.mean()"
   ]
  },
  {
   "cell_type": "markdown",
   "metadata": {},
   "source": [
    "Just for completeness, we show that a dummy classifier performs much worse on the same data, proving that the results are not due to luck."
   ]
  },
  {
   "cell_type": "code",
   "execution_count": 28,
   "metadata": {},
   "outputs": [
    {
     "data": {
      "text/plain": [
       "0.34170291146761733"
      ]
     },
     "execution_count": 28,
     "metadata": {},
     "output_type": "execute_result"
    }
   ],
   "source": [
    "scores = cross_val_score(DummyClassifier(), X_emb, y_valid, scoring='accuracy', cv=5)\n",
    "scores.mean()"
   ]
  },
  {
   "cell_type": "code",
   "execution_count": null,
   "metadata": {},
   "outputs": [],
   "source": []
  }
 ],
 "metadata": {
  "kernelspec": {
   "display_name": "Python 3",
   "language": "python",
   "name": "python3"
  },
  "language_info": {
   "codemirror_mode": {
    "name": "ipython",
    "version": 3
   },
   "file_extension": ".py",
   "mimetype": "text/x-python",
   "name": "python",
   "nbconvert_exporter": "python",
   "pygments_lexer": "ipython3",
   "version": "3.6.2"
  }
 },
 "nbformat": 4,
 "nbformat_minor": 2
}
