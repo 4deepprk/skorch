{
 "cells": [
  {
   "cell_type": "markdown",
   "metadata": {},
   "source": [
    "# DCGan with skorch"
   ]
  },
  {
   "cell_type": "markdown",
   "metadata": {},
   "source": [
    "Code is adapted from [pytorch examples](https://github.com/pytorch/examples/tree/master/dcgan)"
   ]
  },
  {
   "cell_type": "markdown",
   "metadata": {},
   "source": [
    "## Imports"
   ]
  },
  {
   "cell_type": "code",
   "execution_count": 1,
   "metadata": {},
   "outputs": [
    {
     "name": "stdout",
     "output_type": "stream",
     "text": [
      "Populating the interactive namespace from numpy and matplotlib\n"
     ]
    }
   ],
   "source": [
    "import matplotlib.pyplot as plt\n",
    "%pylab inline"
   ]
  },
  {
   "cell_type": "code",
   "execution_count": 2,
   "metadata": {},
   "outputs": [],
   "source": [
    "import torch\n",
    "import torch.nn as nn\n",
    "import torch.nn.parallel\n",
    "import torch.optim as optim\n",
    "import torch.utils.data\n",
    "import torchvision.datasets as dset\n",
    "import torchvision.transforms as transforms\n",
    "import torchvision.utils as vutils"
   ]
  },
  {
   "cell_type": "code",
   "execution_count": 3,
   "metadata": {},
   "outputs": [
    {
     "name": "stderr",
     "output_type": "stream",
     "text": [
      "/home/vinh/anaconda3/envs/skorch/lib/python3.6/site-packages/sklearn/utils/deprecation.py:144: FutureWarning: The sklearn.metrics.scorer module is  deprecated in version 0.22 and will be removed in version 0.24. The corresponding classes / functions should instead be imported from sklearn.metrics. Anything that cannot be imported from sklearn.metrics is now part of the private API.\n",
      "  warnings.warn(message, FutureWarning)\n"
     ]
    }
   ],
   "source": [
    "from skorch import NeuralNet\n",
    "from skorch.utils import noop\n",
    "from skorch.callbacks import BatchScoring"
   ]
  },
  {
   "cell_type": "markdown",
   "metadata": {},
   "source": [
    "## Parameters"
   ]
  },
  {
   "cell_type": "code",
   "execution_count": 4,
   "metadata": {
    "scrolled": true
   },
   "outputs": [],
   "source": [
    "torch.manual_seed(0)\n",
    "device = torch.device(\"cuda:0\") if torch.cuda.is_available() else 'cpu'"
   ]
  },
  {
   "cell_type": "code",
   "execution_count": 5,
   "metadata": {},
   "outputs": [],
   "source": [
    "nz = 100  # size of the latent z vector\n",
    "ngf = 32  # units of generator\n",
    "ndf = 32  # units of discriminator\n",
    "nc = 1  # number of channels\n",
    "batch_size = 64\n",
    "lr = 0.0002\n",
    "beta1 = 0.5  # for adam\n",
    "max_epochs = 25\n",
    "ngpu = 1\n",
    "img_size = 32  # 32 is easier than 28 to work with\n",
    "workers = 2  # for dataloader"
   ]
  },
  {
   "cell_type": "code",
   "execution_count": 6,
   "metadata": {},
   "outputs": [],
   "source": [
    "path = './mnist'"
   ]
  },
  {
   "cell_type": "markdown",
   "metadata": {},
   "source": [
    "## Load data"
   ]
  },
  {
   "cell_type": "code",
   "execution_count": 7,
   "metadata": {},
   "outputs": [],
   "source": [
    "dataset = dset.MNIST(\n",
    "    root=path,\n",
    "    download=True,\n",
    "    transform=transforms.Compose([\n",
    "        transforms.Resize(img_size),\n",
    "        transforms.ToTensor(),\n",
    "        transforms.Normalize((0.5,), (0.5,)),\n",
    "    ]),\n",
    ")"
   ]
  },
  {
   "cell_type": "markdown",
   "metadata": {},
   "source": [
    "## Custom code"
   ]
  },
  {
   "cell_type": "code",
   "execution_count": 9,
   "metadata": {},
   "outputs": [],
   "source": [
    "# custom weights initialization called on generator and discriminator\n",
    "def weights_init(m):\n",
    "    classname = m.__class__.__name__\n",
    "    if classname.find('Conv') != -1:\n",
    "        m.weight.data.normal_(0.0, 0.02)\n",
    "    elif classname.find('BatchNorm') != -1:\n",
    "        m.weight.data.normal_(1.0, 0.02)\n",
    "        m.bias.data.fill_(0)"
   ]
  },
  {
   "cell_type": "code",
   "execution_count": 10,
   "metadata": {},
   "outputs": [],
   "source": [
    "class Generator(nn.Module):\n",
    "    def __init__(self, nz, ngf, ngpu):\n",
    "        super().__init__()\n",
    "        self.nz = nz\n",
    "        self.ngf = ngf\n",
    "        self.ngpu = ngpu\n",
    "\n",
    "        self.main = nn.Sequential(\n",
    "            # input is Z, going into a convolution\n",
    "            nn.ConvTranspose2d(     nz, ngf * 4, 4, 1, 0, bias=False),\n",
    "            nn.BatchNorm2d(ngf * 4),\n",
    "            nn.ReLU(True),\n",
    "            # state size. (ngf*4) x 4 x 4\n",
    "            nn.ConvTranspose2d(ngf * 4, ngf * 2, 4, 2, 1, bias=False),\n",
    "            nn.BatchNorm2d(ngf * 2),\n",
    "            nn.ReLU(True),\n",
    "            # state size. (ngf*2) x 8 x 8\n",
    "            nn.ConvTranspose2d(ngf * 2, ngf, 4, 2, 1, bias=False),\n",
    "            nn.BatchNorm2d(ngf),\n",
    "            nn.ReLU(True),\n",
    "            # state size. (ngf) x 16 x 16\n",
    "            nn.ConvTranspose2d(ngf,     nc, 4, 2, 1, bias=False),\n",
    "            nn.Tanh(),\n",
    "            # state size. (nc) x 32 x 32\n",
    "        )\n",
    "\n",
    "    def forward(self, input):\n",
    "        if input.is_cuda and self.ngpu > 1:\n",
    "            output = nn.parallel.data_parallel(self.main, input, range(self.ngpu))\n",
    "        else:\n",
    "            output = self.main(input)\n",
    "        return output"
   ]
  },
  {
   "cell_type": "code",
   "execution_count": 11,
   "metadata": {},
   "outputs": [],
   "source": [
    "class Discriminator(nn.Module):\n",
    "    def __init__(self, nc, ndf, ngpu):\n",
    "        super().__init__()\n",
    "        self.nc = nc\n",
    "        self.ndf = ndf\n",
    "        self.ngpu = ngpu\n",
    "\n",
    "        self.main = nn.Sequential(\n",
    "            # state size. (ndf) x 32 x 32\n",
    "            nn.Conv2d(nc, ndf, 4, 2, 1, bias=False),\n",
    "            nn.LeakyReLU(0.2, inplace=True),\n",
    "            # state size. (ndf) x 16 x 16\n",
    "            nn.Conv2d(ndf, ndf * 2, 4, 2, 1, bias=False),\n",
    "            nn.BatchNorm2d(ndf * 2),\n",
    "            nn.LeakyReLU(0.2, inplace=True),\n",
    "            # state size. (ndf*2) x 8 x 8\n",
    "            nn.Conv2d(ndf * 2, ndf * 4, 4, 2, 1, bias=False),\n",
    "            nn.BatchNorm2d(ndf * 4),\n",
    "            nn.LeakyReLU(0.2, inplace=True),\n",
    "            # state size. (ndf*4) x 4 x 4\n",
    "            nn.Conv2d(ndf * 4, 1, 4, 1, 0, bias=False),\n",
    "            nn.Sigmoid()\n",
    "        )\n",
    "\n",
    "    def forward(self, input):\n",
    "        if input.is_cuda and self.ngpu > 1:\n",
    "            output = nn.parallel.data_parallel(self.main, input, range(self.ngpu))\n",
    "        else:\n",
    "            output = self.main(input)\n",
    "\n",
    "        return output.view(-1, 1).squeeze(1)"
   ]
  },
  {
   "cell_type": "code",
   "execution_count": 12,
   "metadata": {},
   "outputs": [],
   "source": [
    "class Dcgan(nn.Module):\n",
    "    def __init__(self, nc, nz, ndf, ngf, ngpu):\n",
    "        super().__init__()\n",
    "        \n",
    "        self.nc = nc\n",
    "        self.nz = nz\n",
    "        self.ndf = ndf\n",
    "        self.ngf = ngf\n",
    "        self.ngpu = ngpu\n",
    "\n",
    "        self.discriminator = Discriminator(\n",
    "            nc=self.nc,\n",
    "            ndf=self.ndf,\n",
    "            ngpu=self.ngpu,\n",
    "        )\n",
    "        self.discriminator.apply(weights_init)\n",
    "        self.generator = Generator(\n",
    "            nz=self.nz,\n",
    "            ngf=self.ngf,\n",
    "            ngpu=self.ngpu,\n",
    "        )\n",
    "        self.discriminator.apply(weights_init)\n",
    "        \n",
    "    def forward(self, X, y=None):\n",
    "        # real data\n",
    "        output_real = self.discriminator(X)\n",
    "\n",
    "        # generated data\n",
    "        noise = torch.randn(X.shape[0], self.nz, 1, 1, device=X.device)\n",
    "        fake = self.generator(noise)\n",
    "        output_fake = self.discriminator(fake)\n",
    "        output_fake_det = self.discriminator(fake.detach())\n",
    "\n",
    "        return output_real, output_fake, output_fake_det, fake"
   ]
  },
  {
   "cell_type": "code",
   "execution_count": 13,
   "metadata": {},
   "outputs": [],
   "source": [
    "class DcganCriterion(nn.Module):\n",
    "    def __init__(self, real_label=1, fake_label=0):\n",
    "        super().__init__()\n",
    "        self.criterion = nn.BCELoss()\n",
    "\n",
    "    def forward(self, y_pred, y_true=None):\n",
    "        output_real, output_fake, output_fake_det, _ = y_pred\n",
    "        batch_size = len(output_real)\n",
    "        device = output_real.device\n",
    "        label_real = torch.ones((batch_size,),device=device)\n",
    "        label_fake = torch.zeros((batch_size,),device=device)\n",
    "\n",
    "        # discriminator real\n",
    "        loss_discriminator_real = self.criterion(output_real, label_real)\n",
    "\n",
    "        # discriminator fake\n",
    "        loss_discriminator_fake = self.criterion(output_fake_det, label_fake)\n",
    "\n",
    "        # generator\n",
    "        loss_generator = self.criterion(output_fake, label_real)\n",
    "\n",
    "        # return individual losses to log them separately\n",
    "        return loss_discriminator_real, loss_discriminator_fake, loss_generator"
   ]
  },
  {
   "cell_type": "markdown",
   "metadata": {},
   "source": [
    "### add in extra logging"
   ]
  },
  {
   "cell_type": "markdown",
   "metadata": {},
   "source": [
    "The changes below are not strictly necessary, they are just there to log the discriminator and generator loss."
   ]
  },
  {
   "cell_type": "code",
   "execution_count": 14,
   "metadata": {},
   "outputs": [],
   "source": [
    "class DcganNet(NeuralNet):\n",
    "    def get_loss(self, y_pred, y_true, X=None, training=False):\n",
    "        loss_discriminator_real, loss_discriminator_fake, loss_generator = self.criterion_(y_pred, y_true)\n",
    "        prefix = 'train_' if training else 'valid_'\n",
    "\n",
    "        loss_discriminator = loss_discriminator_real + loss_discriminator_fake\n",
    "        self.history.record_batch(prefix + 'dis', loss_discriminator.item())\n",
    "        self.history.record_batch(prefix + 'gen', loss_generator.item())\n",
    "        \n",
    "        return loss_discriminator_real + loss_discriminator_fake + loss_generator"
   ]
  },
  {
   "cell_type": "code",
   "execution_count": 15,
   "metadata": {},
   "outputs": [],
   "source": [
    "def train_loss_gen(net, X=None, y=None):\n",
    "    return net.history[-1, 'batches', -1, 'train_gen']\n",
    "def train_loss_dis(net, X=None, y=None):\n",
    "    return net.history[-1, 'batches', -1, 'train_dis']"
   ]
  },
  {
   "cell_type": "code",
   "execution_count": 16,
   "metadata": {},
   "outputs": [],
   "source": [
    "def valid_loss_gen(net, X=None, y=None):\n",
    "    return net.history[-1, 'batches', -1, 'valid_gen']\n",
    "def valid_loss_dis(net, X=None, y=None):\n",
    "    return net.history[-1, 'batches', -1, 'valid_dis']"
   ]
  },
  {
   "cell_type": "code",
   "execution_count": 17,
   "metadata": {},
   "outputs": [],
   "source": [
    "extra_callbacks = [\n",
    "    ('train_loss_gen', BatchScoring(train_loss_gen, on_train=True, target_extractor=noop)),\n",
    "    ('train_loss_dis', BatchScoring(train_loss_dis, on_train=True, target_extractor=noop)),\n",
    "    ('valid_loss_gen', BatchScoring(valid_loss_gen, on_train=False, target_extractor=noop)),\n",
    "    ('valid_loss_dis', BatchScoring(valid_loss_dis, on_train=False, target_extractor=noop)),\n",
    "]"
   ]
  },
  {
   "cell_type": "markdown",
   "metadata": {},
   "source": [
    "## Train net"
   ]
  },
  {
   "cell_type": "code",
   "execution_count": 18,
   "metadata": {},
   "outputs": [],
   "source": [
    "net = DcganNet(\n",
    "    Dcgan,\n",
    "    module__nz=nz,\n",
    "    module__ndf=ndf,\n",
    "    module__ngf=ngf,\n",
    "    module__nc=nc,\n",
    "    module__ngpu=ngpu,\n",
    "\n",
    "    criterion=DcganCriterion,\n",
    "    optimizer=optim.Adam,\n",
    "    lr=lr,\n",
    "    optimizer__betas=(beta1, 0.999),\n",
    "    batch_size=batch_size,\n",
    "    max_epochs=max_epochs,\n",
    "\n",
    "    train_split=False,  # comment out for internal train/valid split\n",
    "    iterator_train__shuffle=True,\n",
    "    iterator_train__num_workers=workers,\n",
    "    iterator_valid__num_workers=workers,\n",
    "    \n",
    "    callbacks=extra_callbacks,\n",
    ")"
   ]
  },
  {
   "cell_type": "code",
   "execution_count": 19,
   "metadata": {},
   "outputs": [
    {
     "name": "stdout",
     "output_type": "stream",
     "text": [
      "  epoch    train_loss    train_loss_dis    train_loss_gen       dur\n",
      "-------  ------------  ----------------  ----------------  --------\n",
      "      1        \u001b[36m1.5962\u001b[0m            \u001b[32m0.9756\u001b[0m            \u001b[35m0.6206\u001b[0m  359.4358\n",
      "      2        1.6466            1.0542            \u001b[35m0.5925\u001b[0m  286.3734\n",
      "      3        1.6066            0.9977            0.6089  281.0857\n",
      "      4        \u001b[36m1.5888\u001b[0m            \u001b[32m0.9710\u001b[0m            0.6179  276.5708\n",
      "      5        \u001b[36m1.5427\u001b[0m            \u001b[32m0.8983\u001b[0m            0.6443  284.5098\n",
      "      6        \u001b[36m1.5258\u001b[0m            \u001b[32m0.8704\u001b[0m            0.6554  281.8785\n",
      "      7        \u001b[36m1.5147\u001b[0m            \u001b[32m0.8559\u001b[0m            0.6588  280.2213\n",
      "      8        \u001b[36m1.4994\u001b[0m            \u001b[32m0.8325\u001b[0m            0.6669  282.9186\n",
      "      9        1.4996            \u001b[32m0.8322\u001b[0m            0.6674  276.6854\n",
      "     10        \u001b[36m1.4873\u001b[0m            \u001b[32m0.8156\u001b[0m            0.6717  282.6022\n",
      "     11        \u001b[36m1.4643\u001b[0m            \u001b[32m0.7832\u001b[0m            0.6811  274.0600\n",
      "     12        1.4859            0.8149            0.6710  281.7605\n",
      "     13        1.4707            0.7934            0.6773  278.4907\n",
      "     14        \u001b[36m1.4568\u001b[0m            \u001b[32m0.7734\u001b[0m            0.6834  273.9474\n",
      "     15        1.4665            0.7893            0.6772  283.6250\n",
      "     16        \u001b[36m1.4519\u001b[0m            \u001b[32m0.7677\u001b[0m            0.6842  283.1487\n",
      "     17        \u001b[36m1.4412\u001b[0m            \u001b[32m0.7537\u001b[0m            0.6874  271.1781\n",
      "     18        1.4443            0.7582            0.6861  273.5917\n",
      "     19        \u001b[36m1.4381\u001b[0m            \u001b[32m0.7504\u001b[0m            0.6877  283.8451\n",
      "     20        1.4400            0.7540            0.6860  280.5815\n",
      "     21        \u001b[36m1.4250\u001b[0m            \u001b[32m0.7335\u001b[0m            0.6915  280.9077\n",
      "     22        1.4357            0.7469            0.6887  278.1683\n",
      "     23        1.4256            0.7357            0.6899  278.2118\n",
      "     24        1.4308            0.7427            0.6881  279.7564\n",
      "     25        \u001b[36m1.4203\u001b[0m            \u001b[32m0.7285\u001b[0m            0.6918  282.7555\n"
     ]
    },
    {
     "data": {
      "text/plain": [
       "<class '__main__.DcganNet'>[initialized](\n",
       "  module_=Dcgan(\n",
       "    (discriminator): Discriminator(\n",
       "      (main): Sequential(\n",
       "        (0): Conv2d(1, 32, kernel_size=(4, 4), stride=(2, 2), padding=(1, 1), bias=False)\n",
       "        (1): LeakyReLU(negative_slope=0.2, inplace=True)\n",
       "        (2): Conv2d(32, 64, kernel_size=(4, 4), stride=(2, 2), padding=(1, 1), bias=False)\n",
       "        (3): BatchNorm2d(64, eps=1e-05, momentum=0.1, affine=True, track_running_stats=True)\n",
       "        (4): LeakyReLU(negative_slope=0.2, inplace=True)\n",
       "        (5): Conv2d(64, 128, kernel_size=(4, 4), stride=(2, 2), padding=(1, 1), bias=False)\n",
       "        (6): BatchNorm2d(128, eps=1e-05, momentum=0.1, affine=True, track_running_stats=True)\n",
       "        (7): LeakyReLU(negative_slope=0.2, inplace=True)\n",
       "        (8): Conv2d(128, 1, kernel_size=(4, 4), stride=(1, 1), bias=False)\n",
       "        (9): Sigmoid()\n",
       "      )\n",
       "    )\n",
       "    (generator): Generator(\n",
       "      (main): Sequential(\n",
       "        (0): ConvTranspose2d(100, 128, kernel_size=(4, 4), stride=(1, 1), bias=False)\n",
       "        (1): BatchNorm2d(128, eps=1e-05, momentum=0.1, affine=True, track_running_stats=True)\n",
       "        (2): ReLU(inplace=True)\n",
       "        (3): ConvTranspose2d(128, 64, kernel_size=(4, 4), stride=(2, 2), padding=(1, 1), bias=False)\n",
       "        (4): BatchNorm2d(64, eps=1e-05, momentum=0.1, affine=True, track_running_stats=True)\n",
       "        (5): ReLU(inplace=True)\n",
       "        (6): ConvTranspose2d(64, 32, kernel_size=(4, 4), stride=(2, 2), padding=(1, 1), bias=False)\n",
       "        (7): BatchNorm2d(32, eps=1e-05, momentum=0.1, affine=True, track_running_stats=True)\n",
       "        (8): ReLU(inplace=True)\n",
       "        (9): ConvTranspose2d(32, 1, kernel_size=(4, 4), stride=(2, 2), padding=(1, 1), bias=False)\n",
       "        (10): Tanh()\n",
       "      )\n",
       "    )\n",
       "  ),\n",
       ")"
      ]
     },
     "execution_count": 19,
     "metadata": {},
     "output_type": "execute_result"
    }
   ],
   "source": [
    "net.fit(dataset)"
   ]
  },
  {
   "cell_type": "markdown",
   "metadata": {},
   "source": [
    "## Inspect images"
   ]
  },
  {
   "cell_type": "code",
   "execution_count": 20,
   "metadata": {},
   "outputs": [],
   "source": [
    "_, _, _, fake_imgs = net.forward(torch.utils.data.Subset(dataset, torch.arange(0, 10)))"
   ]
  },
  {
   "cell_type": "code",
   "execution_count": 21,
   "metadata": {},
   "outputs": [
    {
     "data": {
      "text/plain": [
       "torch.Size([10, 1, 32, 32])"
      ]
     },
     "execution_count": 21,
     "metadata": {},
     "output_type": "execute_result"
    }
   ],
   "source": [
    "fake_imgs.shape"
   ]
  },
  {
   "cell_type": "code",
   "execution_count": 22,
   "metadata": {},
   "outputs": [
    {
     "data": {
      "image/png": "[encoded data removed]",
      "text/plain": [
       "<Figure size 576x2160 with 10 Axes>"
      ]
     },
     "metadata": {
      "needs_background": "light"
     },
     "output_type": "display_data"
    }
   ],
   "source": [
    "_, axes = plt.subplots(10, 1, figsize=(8, 30))\n",
    "for i in range(10):\n",
    "    axes[i].imshow(fake_imgs[i][0].numpy(), cmap='gray')"
   ]
  },
  {
   "cell_type": "code",
   "execution_count": null,
   "metadata": {},
   "outputs": [],
   "source": []
  }
 ],
 "metadata": {
  "kernelspec": {
   "display_name": "Python 3",
   "language": "python",
   "name": "python3"
  },
  "language_info": {
   "codemirror_mode": {
    "name": "ipython",
    "version": 3
   },
   "file_extension": ".py",
   "mimetype": "text/x-python",
   "name": "python",
   "nbconvert_exporter": "python",
   "pygments_lexer": "ipython3",
   "version": "3.6.2"
  }
 },
 "nbformat": 4,
 "nbformat_minor": 2
}
