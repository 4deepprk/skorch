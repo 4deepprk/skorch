{
 "cells": [
  {
   "cell_type": "markdown",
   "metadata": {},
   "source": [
    "# Experimenting with visdom callbacks"
   ]
  },
  {
   "cell_type": "markdown",
   "metadata": {},
   "source": [
    "## imports"
   ]
  },
  {
   "cell_type": "code",
   "execution_count": 1,
   "metadata": {},
   "outputs": [],
   "source": [
    "from collections import ChainMap\n",
    "from fnmatch import fnmatch\n",
    "from functools import partial\n",
    "import pickle\n",
    "import time"
   ]
  },
  {
   "cell_type": "code",
   "execution_count": 2,
   "metadata": {},
   "outputs": [],
   "source": [
    "from skorch.callbacks import Callback\n",
    "from skorch.toy import make_classifier\n",
    "from skorch import NeuralNetClassifier\n",
    "from sklearn.datasets import make_classification\n",
    "import numpy as np\n",
    "import torch\n",
    "import visdom"
   ]
  },
  {
   "cell_type": "markdown",
   "metadata": {},
   "source": [
    "## data"
   ]
  },
  {
   "cell_type": "code",
   "execution_count": 3,
   "metadata": {},
   "outputs": [
    {
     "data": {
      "text/plain": [
       "<torch._C.Generator at 0x7ffad59a8670>"
      ]
     },
     "execution_count": 3,
     "metadata": {},
     "output_type": "execute_result"
    }
   ],
   "source": [
    "torch.manual_seed(42)"
   ]
  },
  {
   "cell_type": "code",
   "execution_count": 4,
   "metadata": {},
   "outputs": [],
   "source": [
    "X, y = make_classification(1000, n_features=20, n_informative=10, n_classes=5, random_state=42)"
   ]
  },
  {
   "cell_type": "code",
   "execution_count": 5,
   "metadata": {},
   "outputs": [],
   "source": [
    "X = X.astype(np.float32)\n",
    "y[::3] = 0  # heavy bias for 0"
   ]
  },
  {
   "cell_type": "markdown",
   "metadata": {},
   "source": [
    "## definitions"
   ]
  },
  {
   "cell_type": "code",
   "execution_count": 6,
   "metadata": {},
   "outputs": [],
   "source": [
    "class FunctionCallback(Callback):\n",
    "    def __init__(self, method_name, func):\n",
    "        self.method_name = method_name\n",
    "        self.func = func\n",
    "\n",
    "    def __getattribute__(self, name):\n",
    "        try:\n",
    "            method_name = object.__getattribute__(self, 'method_name')\n",
    "        except AttributeError:\n",
    "            # This may happen when object state is currently being restored\n",
    "            return object.__getattribute__(self, name)\n",
    "\n",
    "        if method_name != name:\n",
    "            return object.__getattribute__(self, name)\n",
    "        return self.func"
   ]
  },
  {
   "cell_type": "code",
   "execution_count": 7,
   "metadata": {},
   "outputs": [],
   "source": [
    "class _VisdomBase(Callback):\n",
    "    def initialize(self):\n",
    "        self._vis = None\n",
    "        self.windows_ = {}\n",
    "        return self\n",
    "\n",
    "    def _check_visdom(self, vis):\n",
    "        # TODO: friendly error message should visdom not be running\n",
    "        return vis\n",
    "\n",
    "    def vis_(self):\n",
    "        # all this hassle is needed to so that we can delete all references to visdom\n",
    "        # during __getstate__, since they are not pickleable\n",
    "        if self._vis is not None:\n",
    "            return self._vis\n",
    "\n",
    "        import visdom\n",
    "        kwargs = getattr(self, 'visdom_kwargs', {})\n",
    "        kwargs = kwargs or {}\n",
    "        vis = visdom.Visdom(**kwargs)\n",
    "        self._vis = self._check_visdom(vis)\n",
    "        return vis\n",
    "\n",
    "    def __getstate__(self):\n",
    "        state = self.__dict__.copy()\n",
    "        state['_vis'] = None  # cannot be pickled\n",
    "        return state"
   ]
  },
  {
   "cell_type": "code",
   "execution_count": 8,
   "metadata": {},
   "outputs": [],
   "source": [
    "class _VisdomHistoryLinePlotMixin:\n",
    "    def __init__(\n",
    "            self,\n",
    "            keys=None,\n",
    "            opts=None,\n",
    "            xlabel='epoch',\n",
    "            ylabel='loss',\n",
    "            visdom_kwargs=None,\n",
    "    ):\n",
    "        self.keys = keys\n",
    "        self.opts = opts\n",
    "        self.xlabel = xlabel\n",
    "        self.ylabel = ylabel\n",
    "        self.visdom_kwargs = visdom_kwargs\n",
    "\n",
    "    def _format_keys(self, keys):\n",
    "        if self.keys is None:\n",
    "            return ('train_loss', 'valid_loss')\n",
    "        if isinstance(self.keys, str):\n",
    "            return (self.keys,)\n",
    "        return tuple(self.keys)\n",
    "\n",
    "    @property\n",
    "    def opts_(self):\n",
    "        defaults = {\n",
    "            'legend': list(self.keys_),  # visdom doesn't accept tuples\n",
    "            'xlabel': self.xlabel,\n",
    "            'ylabel': self.ylabel,\n",
    "        }\n",
    "        return dict(ChainMap(self.opts or {}, defaults))\n",
    "\n",
    "    def initialize(self):\n",
    "        super().initialize()\n",
    "        self.first_iteration_ = True\n",
    "        self.keys_ = self._format_keys(self.keys)\n",
    "        return self\n",
    "\n",
    "    def plotfn(self):\n",
    "        return self.vis_().line\n",
    "\n",
    "    def plot(self, name, plot_params):\n",
    "        plot_params['opts']['title'] = \"train progress\"\n",
    "        plot_params['win'] = self.windows_.get(name)\n",
    "        self.windows_[name] = self.plotfn()(**plot_params)\n",
    "    \n",
    "    def make_plot(self, net):\n",
    "        X, Y = self._get_data(net.history)\n",
    "        plot_params = {\n",
    "            'X': X,\n",
    "            'Y': Y,\n",
    "            'opts': self.opts_,\n",
    "            'update': 'append',\n",
    "        }\n",
    "        if self.first_iteration_:\n",
    "            del plot_params['update']\n",
    "            self.first_iteration_ = False\n",
    "        self.plot(self.keys_, plot_params)\n",
    "        \n",
    "    def _get_data(self, history):\n",
    "        raise NotImplementedError"
   ]
  },
  {
   "cell_type": "code",
   "execution_count": 9,
   "metadata": {},
   "outputs": [],
   "source": [
    "class VisdomHistoryLinePlotter(_VisdomHistoryLinePlotMixin, _VisdomBase):\n",
    "    def _get_data(self, history):\n",
    "        X = np.atleast_1d(history[-1:, 'epoch'])\n",
    "        Y = np.atleast_1d(history[-1:, self.keys_])\n",
    "        return X, Y\n",
    "\n",
    "    def on_epoch_end(self, net, **kwargs):\n",
    "        self.make_plot(net)"
   ]
  },
  {
   "cell_type": "code",
   "execution_count": 10,
   "metadata": {},
   "outputs": [],
   "source": [
    "def match(pattern):\n",
    "    return pattern if callable(pattern) else partial(fnmatch, pat=pattern)"
   ]
  },
  {
   "cell_type": "code",
   "execution_count": 11,
   "metadata": {},
   "outputs": [],
   "source": [
    "class VisdomParamPlotter(_VisdomBase):\n",
    "    def __init__(\n",
    "            self,\n",
    "            pattern,\n",
    "            opts=None,\n",
    "            visdom_kwargs=None,\n",
    "    ):\n",
    "        self.pattern = pattern\n",
    "        self.opts = opts\n",
    "        self.visdom_kwargs = visdom_kwargs\n",
    "\n",
    "    def initialize(self):\n",
    "        super().initialize()\n",
    "        self.match_ = match(self.pattern)\n",
    "        self.defaults_ = {}\n",
    "        self.opts_ = dict(ChainMap(self.opts or {}, self.defaults_))\n",
    "        return self\n",
    "\n",
    "    def plotfn(self):\n",
    "        return self.vis_().histogram\n",
    "\n",
    "    def plot(self, name, val, plot_params):\n",
    "        plot_params['opts']['title'] = self._format_name(name)\n",
    "        plot_params['win'] = self.windows_.get(name)\n",
    "        self.windows_[name] = self._plot(val, plot_params)\n",
    "\n",
    "    def _format_name(self, name):\n",
    "        return name\n",
    "\n",
    "    def _plot(self, val, plot_params):\n",
    "        plotfn = self.plotfn()\n",
    "        return plotfn(val.view(-1), **plot_params)\n",
    "\n",
    "    def on_grad_computed(self, net, named_parameters, **kwargs):\n",
    "        plot_params = {'opts': self.opts_.copy()}\n",
    "        for name, param in named_parameters:\n",
    "            if self.match_(name):\n",
    "                self.plot(name, param, plot_params)"
   ]
  },
  {
   "cell_type": "code",
   "execution_count": 12,
   "metadata": {},
   "outputs": [],
   "source": [
    "class VisdomGradPlotter(VisdomParamPlotter):\n",
    "    def _format_name(self, name):\n",
    "        return \"grad of '{}'\".format(name)\n",
    "\n",
    "    def _plot(self, val, plot_params):\n",
    "        plotfn = self.plotfn()\n",
    "        return plotfn(val.grad.view(-1), **plot_params)"
   ]
  },
  {
   "cell_type": "code",
   "execution_count": 13,
   "metadata": {},
   "outputs": [],
   "source": [
    "class VisdomHeatmapPlotter(VisdomParamPlotter):\n",
    "    def plotfn(self):\n",
    "        return self.vis_().heatmap\n",
    "\n",
    "    def _plot(self, val, plot_params):\n",
    "        plotfn = self.plotfn()\n",
    "        return plotfn(val, **plot_params)"
   ]
  },
  {
   "cell_type": "code",
   "execution_count": 14,
   "metadata": {},
   "outputs": [],
   "source": [
    "class VisdomBarPlotter(VisdomParamPlotter):\n",
    "    def plotfn(self):\n",
    "        return self.vis_().bar\n",
    "\n",
    "    def _plot(self, val, plot_params):\n",
    "        plotfn = self.plotfn()\n",
    "        return plotfn(val.view(-1), **plot_params)"
   ]
  },
  {
   "cell_type": "code",
   "execution_count": 15,
   "metadata": {},
   "outputs": [],
   "source": [
    "def sleep(*args, **kwargs):\n",
    "    time.sleep(0.25)"
   ]
  },
  {
   "cell_type": "code",
   "execution_count": 16,
   "metadata": {},
   "outputs": [],
   "source": [
    "def name_output_bias(name):\n",
    "    return name.endswith('3.bias')"
   ]
  },
  {
   "cell_type": "markdown",
   "metadata": {},
   "source": [
    "## train model"
   ]
  },
  {
   "cell_type": "markdown",
   "metadata": {},
   "source": [
    "It appears that visdom ignores 'ytickmin' when 'ytickmax' is not specified as well."
   ]
  },
  {
   "cell_type": "code",
   "execution_count": 17,
   "metadata": {},
   "outputs": [],
   "source": [
    "net = NeuralNetClassifier(\n",
    "    make_classifier(input_units=20, output_units=5),\n",
    "    lr=0.1,\n",
    "    callbacks=[\n",
    "        FunctionCallback('on_epoch_end', sleep),  # introduce delay for better observability\n",
    "        VisdomHistoryLinePlotter(\n",
    "            opts={'xtickmin': 0, 'fillarea': True}),\n",
    "        VisdomHistoryLinePlotter(\n",
    "            keys='valid_acc', ylabel='accuracy', opts={'ytickmin': 0, 'ytickmax': 1}),\n",
    "        VisdomHistoryLinePlotter(\n",
    "            keys='dur', ylabel='duration', opts={'markers': True}),\n",
    "        VisdomGradPlotter(\n",
    "            '*0.weight', visdom_kwargs={'port': 8097}),\n",
    "        VisdomGradPlotter(\n",
    "            '*3.weight', opts={'numbins': 10}),\n",
    "        VisdomBarPlotter(\n",
    "            name_output_bias),\n",
    "        VisdomHeatmapPlotter(\n",
    "            '*3.weight'),\n",
    "    ],\n",
    ")"
   ]
  },
  {
   "cell_type": "code",
   "execution_count": 18,
   "metadata": {
    "scrolled": false
   },
   "outputs": [
    {
     "name": "stdout",
     "output_type": "stream",
     "text": [
      "  epoch    train_loss    valid_acc    valid_loss     dur\n",
      "-------  ------------  -----------  ------------  ------\n",
      "      1        \u001b[36m1.5100\u001b[0m       \u001b[32m0.4877\u001b[0m        \u001b[35m1.4329\u001b[0m  0.6410\n",
      "      2        \u001b[36m1.4014\u001b[0m       0.4680        \u001b[35m1.3756\u001b[0m  0.1945\n",
      "      3        \u001b[36m1.3515\u001b[0m       0.4729        \u001b[35m1.3416\u001b[0m  0.1862\n",
      "      4        \u001b[36m1.3199\u001b[0m       0.4729        \u001b[35m1.3136\u001b[0m  0.1753\n",
      "      5        \u001b[36m1.2945\u001b[0m       0.4778        \u001b[35m1.2899\u001b[0m  0.1828\n",
      "      6        \u001b[36m1.2725\u001b[0m       0.4680        \u001b[35m1.2686\u001b[0m  0.1765\n",
      "      7        \u001b[36m1.2513\u001b[0m       0.4828        \u001b[35m1.2485\u001b[0m  0.1723\n",
      "      8        \u001b[36m1.2319\u001b[0m       \u001b[32m0.4926\u001b[0m        \u001b[35m1.2319\u001b[0m  0.1813\n",
      "      9        \u001b[36m1.2150\u001b[0m       0.4926        \u001b[35m1.2183\u001b[0m  0.1758\n",
      "     10        \u001b[36m1.1999\u001b[0m       \u001b[32m0.5025\u001b[0m        \u001b[35m1.2065\u001b[0m  0.1680\n"
     ]
    },
    {
     "data": {
      "text/plain": [
       "<class 'skorch.classifier.NeuralNetClassifier'>[initialized](\n",
       "  module_=MLPModule(\n",
       "    (nonlin): ReLU()\n",
       "    (output_nonlin): Softmax()\n",
       "    (sequential): Sequential(\n",
       "      (0): Linear(in_features=20, out_features=10, bias=True)\n",
       "      (1): ReLU()\n",
       "      (2): Dropout(p=0)\n",
       "      (3): Linear(in_features=10, out_features=5, bias=True)\n",
       "      (4): Softmax()\n",
       "    )\n",
       "  ),\n",
       ")"
      ]
     },
     "execution_count": 18,
     "metadata": {},
     "output_type": "execute_result"
    }
   ],
   "source": [
    "net.fit(X, y)"
   ]
  },
  {
   "cell_type": "markdown",
   "metadata": {},
   "source": [
    "#### test pickle"
   ]
  },
  {
   "cell_type": "code",
   "execution_count": 19,
   "metadata": {},
   "outputs": [],
   "source": [
    "dump = pickle.dumps(net)\n",
    "net = pickle.loads(dump)"
   ]
  },
  {
   "cell_type": "code",
   "execution_count": 20,
   "metadata": {},
   "outputs": [
    {
     "name": "stdout",
     "output_type": "stream",
     "text": [
      "     11        \u001b[36m1.1851\u001b[0m       0.5025        \u001b[35m1.1949\u001b[0m  0.5974\n",
      "     12        \u001b[36m1.1702\u001b[0m       \u001b[32m0.5123\u001b[0m        \u001b[35m1.1837\u001b[0m  0.1801\n",
      "     13        \u001b[36m1.1550\u001b[0m       \u001b[32m0.5172\u001b[0m        \u001b[35m1.1721\u001b[0m  0.1808\n",
      "     14        \u001b[36m1.1411\u001b[0m       \u001b[32m0.5222\u001b[0m        \u001b[35m1.1626\u001b[0m  0.1852\n",
      "     15        \u001b[36m1.1282\u001b[0m       \u001b[32m0.5271\u001b[0m        \u001b[35m1.1544\u001b[0m  0.1782\n",
      "     16        \u001b[36m1.1170\u001b[0m       \u001b[32m0.5369\u001b[0m        \u001b[35m1.1483\u001b[0m  0.1786\n",
      "     17        \u001b[36m1.1075\u001b[0m       0.5320        \u001b[35m1.1432\u001b[0m  0.1637\n",
      "     18        \u001b[36m1.0984\u001b[0m       0.5271        \u001b[35m1.1381\u001b[0m  0.1790\n",
      "     19        \u001b[36m1.0896\u001b[0m       0.5222        \u001b[35m1.1336\u001b[0m  0.1731\n",
      "     20        \u001b[36m1.0816\u001b[0m       0.5222        \u001b[35m1.1297\u001b[0m  0.1777\n"
     ]
    },
    {
     "data": {
      "text/plain": [
       "<class 'skorch.classifier.NeuralNetClassifier'>[initialized](\n",
       "  module_=MLPModule(\n",
       "    (nonlin): ReLU()\n",
       "    (output_nonlin): Softmax()\n",
       "    (sequential): Sequential(\n",
       "      (0): Linear(in_features=20, out_features=10, bias=True)\n",
       "      (1): ReLU()\n",
       "      (2): Dropout(p=0)\n",
       "      (3): Linear(in_features=10, out_features=5, bias=True)\n",
       "      (4): Softmax()\n",
       "    )\n",
       "  ),\n",
       ")"
      ]
     },
     "execution_count": 20,
     "metadata": {},
     "output_type": "execute_result"
    }
   ],
   "source": [
    "net.partial_fit(X, y)"
   ]
  },
  {
   "cell_type": "code",
   "execution_count": 21,
   "metadata": {},
   "outputs": [
    {
     "data": {
      "text/html": [
       "<img src=\"visdom.png\"/>"
      ],
      "text/plain": [
       "<IPython.core.display.Image object>"
      ]
     },
     "execution_count": 21,
     "metadata": {},
     "output_type": "execute_result"
    }
   ],
   "source": [
    "from IPython.display import Image\n",
    "Image(url='visdom.png')"
   ]
  },
  {
   "cell_type": "code",
   "execution_count": null,
   "metadata": {},
   "outputs": [],
   "source": []
  }
 ],
 "metadata": {
  "kernelspec": {
   "display_name": "Python 3",
   "language": "python",
   "name": "python3"
  },
  "language_info": {
   "codemirror_mode": {
    "name": "ipython",
    "version": 3
   },
   "file_extension": ".py",
   "mimetype": "text/x-python",
   "name": "python",
   "nbconvert_exporter": "python",
   "pygments_lexer": "ipython3",
   "version": "3.6.2"
  }
 },
 "nbformat": 4,
 "nbformat_minor": 2
}
